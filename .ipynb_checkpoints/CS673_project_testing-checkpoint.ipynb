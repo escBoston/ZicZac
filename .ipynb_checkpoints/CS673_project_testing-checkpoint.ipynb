{
 "cells": [
  {
   "cell_type": "code",
   "execution_count": 2,
   "metadata": {},
   "outputs": [],
   "source": [
    "from datetime import datetime\n",
    "import arrow\n",
    "import cx_Oracle"
   ]
  },
  {
   "cell_type": "code",
   "execution_count": 11,
   "metadata": {},
   "outputs": [],
   "source": [
    "class Item:\n",
    "    desc = \"\"\n",
    "    \n",
    "    def __init__(self, title, price):\n",
    "        self.title = title\n",
    "        self.price = price\n",
    "        \n",
    "    def add_description(self, desc):\n",
    "        self.desc = desc\n",
    "        "
   ]
  },
  {
   "cell_type": "code",
   "execution_count": 50,
   "metadata": {},
   "outputs": [],
   "source": [
    "class Order:\n",
    "    total = 0\n",
    "    items = []\n",
    "    \n",
    "    def __init__(self):\n",
    "        self.orderDate = arrow.now().format('YYYY-MM-DD')\n",
    "        \n",
    "    def add_item(self, item):\n",
    "        self.items.append(item)\n",
    "        self.total += item.price"
   ]
  },
  {
   "cell_type": "code",
   "execution_count": null,
   "metadata": {},
   "outputs": [],
   "source": [
    "class Account:\n",
    "    orders = []\n",
    "    \n",
    "    def __init__(self, password):\n",
    "        #self.username = username\n",
    "        self.password = password\n",
    "        \n",
    "    def add_order(self, order):\n",
    "        self.orders.append(order)"
   ]
  },
  {
   "cell_type": "code",
   "execution_count": 4,
   "metadata": {
    "scrolled": true
   },
   "outputs": [
    {
     "ename": "DatabaseError",
     "evalue": "ORA-12541: TNS:no listener",
     "output_type": "error",
     "traceback": [
      "\u001b[0;31m---------------------------------------------------------------------------\u001b[0m",
      "\u001b[0;31mDatabaseError\u001b[0m                             Traceback (most recent call last)",
      "\u001b[0;32m<ipython-input-4-b11304e0bbdb>\u001b[0m in \u001b[0;36m<module>\u001b[0;34m\u001b[0m\n\u001b[1;32m      1\u001b[0m \u001b[0mdsn_tns\u001b[0m \u001b[0;34m=\u001b[0m \u001b[0mcx_Oracle\u001b[0m\u001b[0;34m.\u001b[0m\u001b[0mmakedsn\u001b[0m\u001b[0;34m(\u001b[0m\u001b[0;34m\"127.0.0.1\"\u001b[0m\u001b[0;34m,\u001b[0m \u001b[0;34m\"1521\"\u001b[0m\u001b[0;34m,\u001b[0m \u001b[0mservice_name\u001b[0m\u001b[0;34m=\u001b[0m\u001b[0;34m\"XE\"\u001b[0m\u001b[0;34m)\u001b[0m\u001b[0;34m\u001b[0m\u001b[0;34m\u001b[0m\u001b[0m\n\u001b[0;32m----> 2\u001b[0;31m \u001b[0mconn\u001b[0m \u001b[0;34m=\u001b[0m \u001b[0mcx_Oracle\u001b[0m\u001b[0;34m.\u001b[0m\u001b[0mconnect\u001b[0m\u001b[0;34m(\u001b[0m\u001b[0muser\u001b[0m\u001b[0;34m=\u001b[0m\u001b[0;34m\"system\"\u001b[0m\u001b[0;34m,\u001b[0m \u001b[0mpassword\u001b[0m\u001b[0;34m=\u001b[0m\u001b[0;34m\"advanstSYS1\"\u001b[0m\u001b[0;34m,\u001b[0m \u001b[0mdsn\u001b[0m\u001b[0;34m=\u001b[0m\u001b[0mdsn_tns\u001b[0m\u001b[0;34m,\u001b[0m \u001b[0mmode\u001b[0m\u001b[0;34m=\u001b[0m\u001b[0mcx_Oracle\u001b[0m\u001b[0;34m.\u001b[0m\u001b[0mSYSDBA\u001b[0m\u001b[0;34m)\u001b[0m\u001b[0;34m\u001b[0m\u001b[0;34m\u001b[0m\u001b[0m\n\u001b[0m",
      "\u001b[0;31mDatabaseError\u001b[0m: ORA-12541: TNS:no listener"
     ]
    }
   ],
   "source": [
    "dsn_tns = cx_Oracle.makedsn(\"127.0.0.1\", \"1521\", service_name=\"XE\")\n",
    "conn = cx_Oracle.connect(user=\"system\", password=\"advanstSYS1\", dsn=dsn_tns, mode=cx_Oracle.SYSDBA)\n",
    "cur = conn.cursor()"
   ]
  },
  {
   "cell_type": "code",
   "execution_count": null,
   "metadata": {},
   "outputs": [],
   "source": [
    "accounts = {}\n",
    "def create_account(username, password):\n",
    "    tryquery = f\"SELECT * FROM SYSTEM.ACCOUNTS WHERE USERNAME={username}\"\n",
    "    cur.execute(tryquery)\n",
    "    if not cur.fetchall(): # username not taken\n",
    "        createquery = f\"INSERT INTO SYSTEM.ACCOUNTS VALUES({username}, {password})\"\n",
    "        cur.execute(query)\n",
    "        accounts[username] = Account(password) # \n",
    "        return \"Account Created\"\n",
    "    else: # username is taken\n",
    "        return \"Username Taken\""
   ]
  },
  {
   "cell_type": "code",
   "execution_count": null,
   "metadata": {},
   "outputs": [],
   "source": [
    "# (front end prompts for login)\n",
    "def trylogin(username, password):\n",
    "    query = f\"SELECT * FROM SYSTEM.ACCOUNTS WHERE USERNAME={username} AND PASSWORD={password}\"\n",
    "    cur.execute(query)\n",
    "    if not cur.fetchall():\n",
    "        return False\n",
    "    return True"
   ]
  },
  {
   "cell_type": "code",
   "execution_count": 55,
   "metadata": {},
   "outputs": [],
   "source": [
    "#tests\n",
    "i = Item(\"lamp\", 12.00)\n",
    "i.add_description(\"a floor lamp\")\n",
    "\n",
    "j = Item(\"box\", 2.00)"
   ]
  },
  {
   "cell_type": "code",
   "execution_count": 56,
   "metadata": {},
   "outputs": [],
   "source": [
    "o = Order()\n",
    "o.add_item(i)\n",
    "o.add_item(j)"
   ]
  },
  {
   "cell_type": "code",
   "execution_count": null,
   "metadata": {},
   "outputs": [],
   "source": [
    "a = Account()\n",
    "a.add_order(o)"
   ]
  },
  {
   "cell_type": "code",
   "execution_count": null,
   "metadata": {},
   "outputs": [],
   "source": []
  }
 ],
 "metadata": {
  "kernelspec": {
   "display_name": "Python 3",
   "language": "python",
   "name": "python3"
  },
  "language_info": {
   "codemirror_mode": {
    "name": "ipython",
    "version": 3
   },
   "file_extension": ".py",
   "mimetype": "text/x-python",
   "name": "python",
   "nbconvert_exporter": "python",
   "pygments_lexer": "ipython3",
   "version": "3.7.4"
  }
 },
 "nbformat": 4,
 "nbformat_minor": 2
}
