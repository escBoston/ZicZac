{
 "cells": [
  {
   "cell_type": "code",
   "execution_count": 1,
   "metadata": {},
   "outputs": [],
   "source": [
    "from datetime import datetime\n",
    "import arrow\n",
    "import pickle\n",
    "import json\n",
    "import sqlite3\n",
    "from flask import g"
   ]
  },
  {
   "cell_type": "code",
   "execution_count": 2,
   "metadata": {},
   "outputs": [],
   "source": [
    "class Item:    \n",
    "    def __init__(self, title, price):\n",
    "        self.title = title\n",
    "        self.price = price\n",
    "        self.desc = \"\"\n",
    "        self.dateAdded = arrow.now().format('YYYY-MM-DD')\n",
    "        self.ratings = []\n",
    "        self.tags = []\n",
    "        \n",
    "    def add_description(self, desc):\n",
    "        self.desc = desc\n",
    "        \n",
    "    def add_tag(self, tag):\n",
    "        self.tags.append(tag)\n",
    "    \n",
    "    def add_seller(self, seller):\n",
    "        self.seller = seller\n",
    "    \n",
    "    def rate(self, rating):\n",
    "        self.ratings.append(rating)\n",
    "        \n",
    "    def get_rating(self):\n",
    "        return np.mean(self.ratings)\n",
    "    \n",
    "    def get_date(self):\n",
    "        return self.dateAdded\n",
    "    \n",
    "    def get_tags(self):\n",
    "        return self.tags\n",
    "    \n",
    "    def get_price(self):\n",
    "        return self.price\n",
    "    \n",
    "    def to_JSON(self):\n",
    "        return json.dumps(self, default=lambda o: o.__dict__, sort_keys=False, indent=4)"
   ]
  },
  {
   "cell_type": "code",
   "execution_count": 3,
   "metadata": {},
   "outputs": [],
   "source": [
    "class Order:\n",
    "    def __init__(self):\n",
    "        self.orderDate = arrow.now().format('YYYY-MM-DD')\n",
    "        self.total = 0\n",
    "        self.items = []\n",
    "        \n",
    "    def add_item(self, item):\n",
    "        self.items.append(item)\n",
    "        self.total += item.price\n",
    "        \n",
    "    def get_items(self):\n",
    "        return self.items"
   ]
  },
  {
   "cell_type": "code",
   "execution_count": 4,
   "metadata": {},
   "outputs": [],
   "source": [
    "class Account:\n",
    "    def __init__(self, password, email):\n",
    "        #self.username = username\n",
    "        self.password = password\n",
    "        self.email = email\n",
    "        self.orders = []\n",
    "        \n",
    "    def add_order(self, order):\n",
    "        self.orders.append(order)\n",
    "    \n",
    "    def add_email(self, email):\n",
    "        self.email = email\n",
    "        \n",
    "    def get_orders(self):\n",
    "        return self.orders"
   ]
  },
  {
   "cell_type": "code",
   "execution_count": 7,
   "metadata": {},
   "outputs": [],
   "source": [
    "#database = '../../../../sqlite/db.db'"
   ]
  },
  {
   "cell_type": "code",
   "execution_count": 11,
   "metadata": {},
   "outputs": [],
   "source": [
    "file = open(\"data/inventory.obj\",'rb')\n",
    "inventory = pickle.load(file)\n",
    "file.close()"
   ]
  },
  {
   "cell_type": "code",
   "execution_count": 7,
   "metadata": {},
   "outputs": [],
   "source": [
    "file = open(\"data/accounts.obj\",'rb')\n",
    "accounts = pickle.load(file)\n",
    "file.close()"
   ]
  },
  {
   "cell_type": "code",
   "execution_count": 8,
   "metadata": {},
   "outputs": [
    {
     "data": {
      "text/plain": [
       "{'testuser': <__main__.Account at 0x10d89e590>}"
      ]
     },
     "execution_count": 8,
     "metadata": {},
     "output_type": "execute_result"
    }
   ],
   "source": [
    "accounts"
   ]
  },
  {
   "cell_type": "code",
   "execution_count": 18,
   "metadata": {},
   "outputs": [],
   "source": [
    "#accounts[\"testuser\"] = Account(password=\"testpass\", email=\"test@gmail.com\")"
   ]
  },
  {
   "cell_type": "code",
   "execution_count": 11,
   "metadata": {},
   "outputs": [],
   "source": [
    "filehandler = open(\"data/accounts.obj\",\"wb\")\n",
    "pickle.dump(accounts,filehandler)\n",
    "filehandler.close()"
   ]
  },
  {
   "cell_type": "code",
   "execution_count": 7,
   "metadata": {},
   "outputs": [],
   "source": [
    "inventory = []\n",
    "inventory.append(i1)\n",
    "inventory.append(i2)\n",
    "inventory.append(i3)\n",
    "inventory.append(i4)\n",
    "inventory.append(i5)\n",
    "inventory.append(i6)\n",
    "inventory.append(i7)\n",
    "inventory.append(i8)"
   ]
  },
  {
   "cell_type": "code",
   "execution_count": 6,
   "metadata": {
    "scrolled": true
   },
   "outputs": [],
   "source": [
    "#tests\n",
    "i1 = Item(\"lamp\", 12.00)\n",
    "i1.add_description(\"a floor lamp\")\n",
    "i1.add_tag(\"furniture\")\n",
    "i1.rate(5)\n",
    "\n",
    "i2 = Item(\"box\", 2.00)\n",
    "i2.add_tag(\"toys\")\n",
    "i2.rate(3)\n",
    "\n",
    "i3 = Item(\"table\", 10.00)\n",
    "i3.add_tag(\"furniture\")\n",
    "i3.rate(3)\n",
    "\n",
    "i4 = Item(\"chair\", 8.00)\n",
    "i4.add_tag(\"furniture\")\n",
    "i4.rate(3)\n",
    "i4.rate(4)\n",
    "\n",
    "i5 = Item(\"buzz_lightyear\", 5.00)\n",
    "i5.add_description(\"action figure\")\n",
    "i5.add_tag(\"toys\")\n",
    "i5.rate(5)\n",
    "\n",
    "i6 = Item(\"couch\", 20.00)\n",
    "i6.add_description(\"leather couch\")\n",
    "i6.add_tag(\"furniture\")\n",
    "i6.rate(4)\n",
    "\n",
    "i7 = Item(\"optimus_prime\", 9.00)\n",
    "i7.add_description(\"transformer\")\n",
    "i7.add_tag(\"toys\")\n",
    "i7.rate(4)\n",
    "\n",
    "i8 = Item(\"monopoly\", 15.00)\n",
    "i8.add_description(\"monopoly game\")\n",
    "i8.add_tag(\"toys\")\n",
    "i8.rate(5)"
   ]
  },
  {
   "cell_type": "code",
   "execution_count": 17,
   "metadata": {},
   "outputs": [],
   "source": [
    "o = Order()\n",
    "o.add_item(i)\n",
    "o.add_item(j)"
   ]
  },
  {
   "cell_type": "code",
   "execution_count": 22,
   "metadata": {},
   "outputs": [],
   "source": [
    "a = Account(password = \"testpass\")\n",
    "a.add_order(o)"
   ]
  }
 ],
 "metadata": {
  "kernelspec": {
   "display_name": "Python 3",
   "language": "python",
   "name": "python3"
  },
  "language_info": {
   "codemirror_mode": {
    "name": "ipython",
    "version": 3
   },
   "file_extension": ".py",
   "mimetype": "text/x-python",
   "name": "python",
   "nbconvert_exporter": "python",
   "pygments_lexer": "ipython3",
   "version": "3.7.4"
  }
 },
 "nbformat": 4,
 "nbformat_minor": 2
}
