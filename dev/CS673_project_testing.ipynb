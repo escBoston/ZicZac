{
 "cells": [
  {
   "cell_type": "code",
   "execution_count": 1,
   "metadata": {},
   "outputs": [],
   "source": [
    "from datetime import datetime\n",
    "import arrow\n",
    "import cx_Oracle\n",
    "import pickle"
   ]
  },
  {
   "cell_type": "code",
   "execution_count": 2,
   "metadata": {},
   "outputs": [],
   "source": [
    "class Item:\n",
    "    desc = \"\"\n",
    "    \n",
    "    def __init__(self, title, price):\n",
    "        self.title = title\n",
    "        self.price = price\n",
    "        \n",
    "    def add_description(self, desc):\n",
    "        self.desc = desc\n",
    "    \n",
    "    def add_seller(self, seller):\n",
    "        self.seller = seller\n",
    "        "
   ]
  },
  {
   "cell_type": "code",
   "execution_count": 3,
   "metadata": {},
   "outputs": [],
   "source": [
    "class Order:\n",
    "    total = 0\n",
    "    items = []\n",
    "    \n",
    "    def __init__(self):\n",
    "        self.orderDate = arrow.now().format('YYYY-MM-DD')\n",
    "        \n",
    "    def add_item(self, item):\n",
    "        self.items.append(item)\n",
    "        self.total += item.price"
   ]
  },
  {
   "cell_type": "code",
   "execution_count": 4,
   "metadata": {},
   "outputs": [],
   "source": [
    "class Account:\n",
    "    orders = []\n",
    "    \n",
    "    def __init__(self, password):\n",
    "        #self.username = username\n",
    "        self.password = password\n",
    "        \n",
    "    def add_order(self, order):\n",
    "        self.orders.append(order)"
   ]
  },
  {
   "cell_type": "code",
   "execution_count": 10,
   "metadata": {},
   "outputs": [
    {
     "data": {
      "text/plain": [
       "{'red': 1, 'blue': 2}"
      ]
     },
     "execution_count": 10,
     "metadata": {},
     "output_type": "execute_result"
    }
   ],
   "source": [
    "account = {}\n",
    "account[\"red\"] = 1\n",
    "account[\"blue\"] = 2\n",
    "account"
   ]
  },
  {
   "cell_type": "code",
   "execution_count": 23,
   "metadata": {},
   "outputs": [],
   "source": [
    "a = Account(\"testpass\")\n",
    "accounts[\"testusername\"] = a"
   ]
  },
  {
   "cell_type": "code",
   "execution_count": 29,
   "metadata": {},
   "outputs": [],
   "source": [
    "accounts[1] = \"orange\""
   ]
  },
  {
   "cell_type": "code",
   "execution_count": 30,
   "metadata": {},
   "outputs": [
    {
     "data": {
      "text/plain": [
       "{'testusername': <__main__.Account at 0x110f55e50>, 1: 'orange'}"
      ]
     },
     "execution_count": 30,
     "metadata": {},
     "output_type": "execute_result"
    }
   ],
   "source": [
    "accounts"
   ]
  },
  {
   "cell_type": "code",
   "execution_count": 12,
   "metadata": {},
   "outputs": [],
   "source": [
    "file = open(\"accounts.obj\",'rb')\n",
    "accounts = pickle.load(file)\n",
    "file.close()\n",
    "\n",
    "def create_account(username, password):\n",
    "    if username in accounts:\n",
    "        return \"Username taken\"\n",
    "    else:\n",
    "        accounts[username] = Account(password)\n",
    "        filehandler = open(\"accounts.obj\",\"wb\")\n",
    "        pickle.dump(accounts,filehandler)\n",
    "        filehandler.close()\n",
    "        return \"Account created\"\n",
    "\n",
    "def trylogin(username, password):\n",
    "    if accounts[username].password == password:\n",
    "        return True\n",
    "    return False"
   ]
  },
  {
   "cell_type": "code",
   "execution_count": 18,
   "metadata": {},
   "outputs": [],
   "source": [
    "#tests\n",
    "i = Item(\"lamp\", 12.00)\n",
    "i.add_description(\"a floor lamp\")\n",
    "\n",
    "j = Item(\"box\", 2.00)"
   ]
  },
  {
   "cell_type": "code",
   "execution_count": 19,
   "metadata": {},
   "outputs": [],
   "source": [
    "o = Order()\n",
    "o.add_item(i)\n",
    "o.add_item(j)"
   ]
  },
  {
   "cell_type": "code",
   "execution_count": 21,
   "metadata": {},
   "outputs": [],
   "source": [
    "a = Account(\"testpass\")\n",
    "a.add_order(o)"
   ]
  },
  {
   "cell_type": "code",
   "execution_count": null,
   "metadata": {},
   "outputs": [],
   "source": []
  }
 ],
 "metadata": {
  "kernelspec": {
   "display_name": "Python 3",
   "language": "python",
   "name": "python3"
  },
  "language_info": {
   "codemirror_mode": {
    "name": "ipython",
    "version": 3
   },
   "file_extension": ".py",
   "mimetype": "text/x-python",
   "name": "python",
   "nbconvert_exporter": "python",
   "pygments_lexer": "ipython3",
   "version": "3.7.4"
  }
 },
 "nbformat": 4,
 "nbformat_minor": 2
}
