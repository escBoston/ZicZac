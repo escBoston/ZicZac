{
 "cells": [
  {
   "cell_type": "code",
   "execution_count": 1,
   "metadata": {},
   "outputs": [],
   "source": [
    "from datetime import datetime\n",
    "import arrow\n",
    "import cx_Oracle\n",
    "import pickle"
   ]
  },
  {
   "cell_type": "code",
   "execution_count": 2,
   "metadata": {},
   "outputs": [],
   "source": [
    "class Item:    \n",
    "    def __init__(self, title, price):\n",
    "        self.title = title\n",
    "        self.price = price\n",
    "        self.desc = \"\"\n",
    "        self.dateAdded = arrow.now().format('YYYY-MM-DD')\n",
    "        self.ratings = []\n",
    "        \n",
    "    def add_description(self, desc):\n",
    "        self.desc = desc\n",
    "    \n",
    "    def add_seller(self, seller):\n",
    "        self.seller = seller\n",
    "    \n",
    "    def rate(self, rating):\n",
    "        self.ratings.append(rating)\n",
    "        \n",
    "    def get_rating(self):\n",
    "        return np.mean(self.ratings)\n",
    "    \n",
    "    def get_date(self):\n",
    "        return self.dateAdded"
   ]
  },
  {
   "cell_type": "code",
   "execution_count": 3,
   "metadata": {},
   "outputs": [],
   "source": [
    "class Order:\n",
    "    def __init__(self):\n",
    "        self.orderDate = arrow.now().format('YYYY-MM-DD')\n",
    "        self.total = 0\n",
    "        self.items = []\n",
    "        \n",
    "    def add_item(self, item):\n",
    "        self.items.append(item)\n",
    "        self.total += item.price\n",
    "        \n",
    "    def get_items(self):\n",
    "        return self.items"
   ]
  },
  {
   "cell_type": "code",
   "execution_count": 4,
   "metadata": {},
   "outputs": [],
   "source": [
    "class Account:\n",
    "    def __init__(self, password):\n",
    "        #self.username = username\n",
    "        self.password = password\n",
    "        self.orders = []\n",
    "        \n",
    "    def add_order(self, order):\n",
    "        self.orders.append(order)\n",
    "        \n",
    "    def get_orders(self):\n",
    "        return self.orders"
   ]
  },
  {
   "cell_type": "code",
   "execution_count": 5,
   "metadata": {},
   "outputs": [],
   "source": [
    "file = open(\"accounts.obj\",'rb')\n",
    "accounts = pickle.load(file)\n",
    "file.close()"
   ]
  },
  {
   "cell_type": "code",
   "execution_count": 28,
   "metadata": {},
   "outputs": [],
   "source": [
    "filehandler = open(\"accounts.obj\",\"wb\")\n",
    "pickle.dump(accounts,filehandler)\n",
    "filehandler.close()"
   ]
  },
  {
   "cell_type": "code",
   "execution_count": 5,
   "metadata": {},
   "outputs": [],
   "source": [
    "#tests\n",
    "i1 = Item(\"lamp\", 12.00)\n",
    "i1.add_description(\"a floor lamp\")\n",
    "i2 = Item(\"box\", 2.00)\n",
    "i3 = Item(\"table\", 10.00)\n",
    "i1.rate(5)\n",
    "i2.rate(4)\n",
    "i3.rate(3)"
   ]
  },
  {
   "cell_type": "code",
   "execution_count": null,
   "metadata": {},
   "outputs": [],
   "source": []
  },
  {
   "cell_type": "code",
   "execution_count": 17,
   "metadata": {},
   "outputs": [],
   "source": [
    "o = Order()\n",
    "o.add_item(i)\n",
    "o.add_item(j)"
   ]
  },
  {
   "cell_type": "code",
   "execution_count": 22,
   "metadata": {},
   "outputs": [],
   "source": [
    "a = Account(\"testpass\")\n",
    "a.add_order(o)"
   ]
  }
 ],
 "metadata": {
  "kernelspec": {
   "display_name": "Python 3",
   "language": "python",
   "name": "python3"
  },
  "language_info": {
   "codemirror_mode": {
    "name": "ipython",
    "version": 3
   },
   "file_extension": ".py",
   "mimetype": "text/x-python",
   "name": "python",
   "nbconvert_exporter": "python",
   "pygments_lexer": "ipython3",
   "version": "3.7.4"
  }
 },
 "nbformat": 4,
 "nbformat_minor": 2
}
